{
  "nbformat": 4,
  "nbformat_minor": 0,
  "metadata": {
    "colab": {
      "provenance": [],
      "machine_shape": "hm",
      "gpuType": "T4"
    },
    "kernelspec": {
      "name": "python3",
      "display_name": "Python 3"
    },
    "language_info": {
      "name": "python"
    },
    "accelerator": "GPU"
  },
  "cells": [
    {
      "cell_type": "code",
      "source": [
        "from google.colab import drive\n",
        "\n",
        "# Mount Google Drive\n",
        "drive.mount('/content/drive')"
      ],
      "metadata": {
        "id": "Ur4kN8jhBYN0",
        "colab": {
          "base_uri": "https://localhost:8080/"
        },
        "outputId": "8634a171-0947-4ea1-e33f-f31443dccfa1"
      },
      "execution_count": null,
      "outputs": [
        {
          "output_type": "stream",
          "name": "stdout",
          "text": [
            "Mounted at /content/drive\n"
          ]
        }
      ]
    },
    {
      "cell_type": "code",
      "source": [
        " cd /content/drive/MyDrive/A_MaskRCNN"
      ],
      "metadata": {
        "id": "EFup0MvhBbsx",
        "colab": {
          "base_uri": "https://localhost:8080/"
        },
        "outputId": "75e0bcb1-7e7c-48fd-95d3-1d8b908c9120"
      },
      "execution_count": null,
      "outputs": [
        {
          "output_type": "stream",
          "name": "stdout",
          "text": [
            "/content/drive/MyDrive/A_MaskRCNN\n"
          ]
        }
      ]
    },
    {
      "cell_type": "code",
      "source": [
        "!git clone https://github.com/z-mahmud22/Mask-RCNN_TF2.14.0.git maskrcnn"
      ],
      "metadata": {
        "id": "iX3J-QDIBdOx",
        "colab": {
          "base_uri": "https://localhost:8080/"
        },
        "outputId": "92c7ea9d-0b84-4ceb-ef76-ac07d614eb8b"
      },
      "execution_count": null,
      "outputs": [
        {
          "output_type": "stream",
          "name": "stdout",
          "text": [
            "fatal: destination path 'maskrcnn' already exists and is not an empty directory.\n"
          ]
        }
      ]
    },
    {
      "cell_type": "code",
      "source": [
        "cd /content/drive/MyDrive/A_MaskRCNN/maskrcnn/mrcnn"
      ],
      "metadata": {
        "id": "t5gipL_xBeyP",
        "colab": {
          "base_uri": "https://localhost:8080/"
        },
        "outputId": "e04c60fc-bced-48f0-eec4-a92dd07b89e3"
      },
      "execution_count": null,
      "outputs": [
        {
          "output_type": "stream",
          "name": "stdout",
          "text": [
            "/content/drive/MyDrive/A_MaskRCNN/maskrcnn/mrcnn\n"
          ]
        }
      ]
    },
    {
      "cell_type": "code",
      "source": [
        "# upload first the updated maskrcnn files (__init__.py; config.py; model.py; parallel_model.py; utils.py; visualize.py)\n",
        "# before executing the code.\n",
        "!pip3 install -r /content/drive/MyDrive/A_MaskRCNN/maskrcnn/requirements.txt"
      ],
      "metadata": {
        "id": "IaS08BfCBgcb",
        "colab": {
          "base_uri": "https://localhost:8080/",
          "height": 1000
        },
        "outputId": "cc18bfd5-3dca-4a55-956a-77e5601b2804"
      },
      "execution_count": null,
      "outputs": [
        {
          "output_type": "stream",
          "name": "stdout",
          "text": [
            "Collecting cython==3.0.5 (from -r /content/drive/MyDrive/A_MaskRCNN/maskrcnn/requirements.txt (line 1))\n",
            "  Downloading Cython-3.0.5-cp311-cp311-manylinux_2_17_x86_64.manylinux2014_x86_64.whl.metadata (3.2 kB)\n",
            "Collecting h5py==3.9.0 (from -r /content/drive/MyDrive/A_MaskRCNN/maskrcnn/requirements.txt (line 2))\n",
            "  Downloading h5py-3.9.0-cp311-cp311-manylinux_2_17_x86_64.manylinux2014_x86_64.whl.metadata (2.5 kB)\n",
            "Collecting imgaug==0.4.0 (from -r /content/drive/MyDrive/A_MaskRCNN/maskrcnn/requirements.txt (line 3))\n",
            "  Downloading imgaug-0.4.0-py2.py3-none-any.whl.metadata (1.8 kB)\n",
            "Requirement already satisfied: ipython==7.34.0 in /usr/local/lib/python3.11/dist-packages (from -r /content/drive/MyDrive/A_MaskRCNN/maskrcnn/requirements.txt (line 4)) (7.34.0)\n",
            "Requirement already satisfied: ipython-genutils==0.2.0 in /usr/local/lib/python3.11/dist-packages (from -r /content/drive/MyDrive/A_MaskRCNN/maskrcnn/requirements.txt (line 5)) (0.2.0)\n",
            "Requirement already satisfied: ipython-sql==0.5.0 in /usr/local/lib/python3.11/dist-packages (from -r /content/drive/MyDrive/A_MaskRCNN/maskrcnn/requirements.txt (line 6)) (0.5.0)\n",
            "Collecting keras==2.15.0 (from -r /content/drive/MyDrive/A_MaskRCNN/maskrcnn/requirements.txt (line 7))\n",
            "  Downloading keras-2.15.0-py3-none-any.whl.metadata (2.4 kB)\n",
            "Collecting matplotlib==3.7.1 (from -r /content/drive/MyDrive/A_MaskRCNN/maskrcnn/requirements.txt (line 8))\n",
            "  Downloading matplotlib-3.7.1-cp311-cp311-manylinux_2_17_x86_64.manylinux2014_x86_64.whl.metadata (5.6 kB)\n",
            "Collecting numpy==1.23.5 (from -r /content/drive/MyDrive/A_MaskRCNN/maskrcnn/requirements.txt (line 9))\n",
            "  Downloading numpy-1.23.5-cp311-cp311-manylinux_2_17_x86_64.manylinux2014_x86_64.whl.metadata (2.3 kB)\n",
            "Collecting opencv-contrib-python==4.8.0.76 (from -r /content/drive/MyDrive/A_MaskRCNN/maskrcnn/requirements.txt (line 10))\n",
            "  Downloading opencv_contrib_python-4.8.0.76-cp37-abi3-manylinux_2_17_x86_64.manylinux2014_x86_64.whl.metadata (19 kB)\n",
            "Collecting opencv-python==4.8.0.76 (from -r /content/drive/MyDrive/A_MaskRCNN/maskrcnn/requirements.txt (line 11))\n",
            "  Downloading opencv_python-4.8.0.76-cp37-abi3-manylinux_2_17_x86_64.manylinux2014_x86_64.whl.metadata (19 kB)\n",
            "Collecting pillow==9.4.0 (from -r /content/drive/MyDrive/A_MaskRCNN/maskrcnn/requirements.txt (line 12))\n",
            "  Downloading Pillow-9.4.0-cp311-cp311-manylinux_2_28_x86_64.whl.metadata (9.3 kB)\n",
            "Collecting scikit-image==0.19.3 (from -r /content/drive/MyDrive/A_MaskRCNN/maskrcnn/requirements.txt (line 13))\n",
            "  Downloading scikit-image-0.19.3.tar.gz (22.2 MB)\n",
            "\u001b[2K     \u001b[90m━━━━━━━━━━━━━━━━━━━━━━━━━━━━━━━━━━━━━━━━\u001b[0m \u001b[32m22.2/22.2 MB\u001b[0m \u001b[31m52.5 MB/s\u001b[0m eta \u001b[36m0:00:00\u001b[0m\n",
            "\u001b[?25h  Installing build dependencies ... \u001b[?25l\u001b[?25hdone\n",
            "  Getting requirements to build wheel ... \u001b[?25l\u001b[?25hdone\n",
            "  Preparing metadata (pyproject.toml) ... \u001b[?25l\u001b[?25hdone\n",
            "Collecting scipy==1.11.3 (from -r /content/drive/MyDrive/A_MaskRCNN/maskrcnn/requirements.txt (line 14))\n",
            "  Downloading scipy-1.11.3-cp311-cp311-manylinux_2_17_x86_64.manylinux2014_x86_64.whl.metadata (60 kB)\n",
            "\u001b[2K     \u001b[90m━━━━━━━━━━━━━━━━━━━━━━━━━━━━━━━━━━━━━━━━\u001b[0m \u001b[32m60.4/60.4 kB\u001b[0m \u001b[31m4.7 MB/s\u001b[0m eta \u001b[36m0:00:00\u001b[0m\n",
            "\u001b[?25hCollecting tensorboard==2.15.0 (from -r /content/drive/MyDrive/A_MaskRCNN/maskrcnn/requirements.txt (line 15))\n",
            "  Downloading tensorboard-2.15.0-py3-none-any.whl.metadata (1.7 kB)\n",
            "Collecting tensorflow==2.15.1 (from -r /content/drive/MyDrive/A_MaskRCNN/maskrcnn/requirements.txt (line 16))\n",
            "  Downloading tensorflow-2.15.1-cp311-cp311-manylinux_2_17_x86_64.manylinux2014_x86_64.whl.metadata (4.2 kB)\n",
            "Collecting memory_profiler (from -r /content/drive/MyDrive/A_MaskRCNN/maskrcnn/requirements.txt (line 17))\n",
            "  Downloading memory_profiler-0.61.0-py3-none-any.whl.metadata (20 kB)\n",
            "Requirement already satisfied: six in /usr/local/lib/python3.11/dist-packages (from imgaug==0.4.0->-r /content/drive/MyDrive/A_MaskRCNN/maskrcnn/requirements.txt (line 3)) (1.17.0)\n",
            "Requirement already satisfied: imageio in /usr/local/lib/python3.11/dist-packages (from imgaug==0.4.0->-r /content/drive/MyDrive/A_MaskRCNN/maskrcnn/requirements.txt (line 3)) (2.37.0)\n",
            "Requirement already satisfied: Shapely in /usr/local/lib/python3.11/dist-packages (from imgaug==0.4.0->-r /content/drive/MyDrive/A_MaskRCNN/maskrcnn/requirements.txt (line 3)) (2.0.7)\n",
            "Requirement already satisfied: setuptools>=18.5 in /usr/local/lib/python3.11/dist-packages (from ipython==7.34.0->-r /content/drive/MyDrive/A_MaskRCNN/maskrcnn/requirements.txt (line 4)) (75.1.0)\n",
            "Collecting jedi>=0.16 (from ipython==7.34.0->-r /content/drive/MyDrive/A_MaskRCNN/maskrcnn/requirements.txt (line 4))\n",
            "  Downloading jedi-0.19.2-py2.py3-none-any.whl.metadata (22 kB)\n",
            "Requirement already satisfied: decorator in /usr/local/lib/python3.11/dist-packages (from ipython==7.34.0->-r /content/drive/MyDrive/A_MaskRCNN/maskrcnn/requirements.txt (line 4)) (4.4.2)\n",
            "Requirement already satisfied: pickleshare in /usr/local/lib/python3.11/dist-packages (from ipython==7.34.0->-r /content/drive/MyDrive/A_MaskRCNN/maskrcnn/requirements.txt (line 4)) (0.7.5)\n",
            "Requirement already satisfied: traitlets>=4.2 in /usr/local/lib/python3.11/dist-packages (from ipython==7.34.0->-r /content/drive/MyDrive/A_MaskRCNN/maskrcnn/requirements.txt (line 4)) (5.7.1)\n",
            "Requirement already satisfied: prompt-toolkit!=3.0.0,!=3.0.1,<3.1.0,>=2.0.0 in /usr/local/lib/python3.11/dist-packages (from ipython==7.34.0->-r /content/drive/MyDrive/A_MaskRCNN/maskrcnn/requirements.txt (line 4)) (3.0.50)\n",
            "Requirement already satisfied: pygments in /usr/local/lib/python3.11/dist-packages (from ipython==7.34.0->-r /content/drive/MyDrive/A_MaskRCNN/maskrcnn/requirements.txt (line 4)) (2.18.0)\n",
            "Requirement already satisfied: backcall in /usr/local/lib/python3.11/dist-packages (from ipython==7.34.0->-r /content/drive/MyDrive/A_MaskRCNN/maskrcnn/requirements.txt (line 4)) (0.2.0)\n",
            "Requirement already satisfied: matplotlib-inline in /usr/local/lib/python3.11/dist-packages (from ipython==7.34.0->-r /content/drive/MyDrive/A_MaskRCNN/maskrcnn/requirements.txt (line 4)) (0.1.7)\n",
            "Requirement already satisfied: pexpect>4.3 in /usr/local/lib/python3.11/dist-packages (from ipython==7.34.0->-r /content/drive/MyDrive/A_MaskRCNN/maskrcnn/requirements.txt (line 4)) (4.9.0)\n",
            "Requirement already satisfied: prettytable in /usr/local/lib/python3.11/dist-packages (from ipython-sql==0.5.0->-r /content/drive/MyDrive/A_MaskRCNN/maskrcnn/requirements.txt (line 6)) (3.15.1)\n",
            "Requirement already satisfied: sqlalchemy>=2.0 in /usr/local/lib/python3.11/dist-packages (from ipython-sql==0.5.0->-r /content/drive/MyDrive/A_MaskRCNN/maskrcnn/requirements.txt (line 6)) (2.0.39)\n",
            "Requirement already satisfied: sqlparse in /usr/local/lib/python3.11/dist-packages (from ipython-sql==0.5.0->-r /content/drive/MyDrive/A_MaskRCNN/maskrcnn/requirements.txt (line 6)) (0.5.3)\n",
            "Requirement already satisfied: contourpy>=1.0.1 in /usr/local/lib/python3.11/dist-packages (from matplotlib==3.7.1->-r /content/drive/MyDrive/A_MaskRCNN/maskrcnn/requirements.txt (line 8)) (1.3.1)\n",
            "Requirement already satisfied: cycler>=0.10 in /usr/local/lib/python3.11/dist-packages (from matplotlib==3.7.1->-r /content/drive/MyDrive/A_MaskRCNN/maskrcnn/requirements.txt (line 8)) (0.12.1)\n",
            "Requirement already satisfied: fonttools>=4.22.0 in /usr/local/lib/python3.11/dist-packages (from matplotlib==3.7.1->-r /content/drive/MyDrive/A_MaskRCNN/maskrcnn/requirements.txt (line 8)) (4.56.0)\n",
            "Requirement already satisfied: kiwisolver>=1.0.1 in /usr/local/lib/python3.11/dist-packages (from matplotlib==3.7.1->-r /content/drive/MyDrive/A_MaskRCNN/maskrcnn/requirements.txt (line 8)) (1.4.8)\n",
            "Requirement already satisfied: packaging>=20.0 in /usr/local/lib/python3.11/dist-packages (from matplotlib==3.7.1->-r /content/drive/MyDrive/A_MaskRCNN/maskrcnn/requirements.txt (line 8)) (24.2)\n",
            "Requirement already satisfied: pyparsing>=2.3.1 in /usr/local/lib/python3.11/dist-packages (from matplotlib==3.7.1->-r /content/drive/MyDrive/A_MaskRCNN/maskrcnn/requirements.txt (line 8)) (3.2.1)\n",
            "Requirement already satisfied: python-dateutil>=2.7 in /usr/local/lib/python3.11/dist-packages (from matplotlib==3.7.1->-r /content/drive/MyDrive/A_MaskRCNN/maskrcnn/requirements.txt (line 8)) (2.8.2)\n",
            "Requirement already satisfied: networkx>=2.2 in /usr/local/lib/python3.11/dist-packages (from scikit-image==0.19.3->-r /content/drive/MyDrive/A_MaskRCNN/maskrcnn/requirements.txt (line 13)) (3.4.2)\n",
            "Requirement already satisfied: tifffile>=2019.7.26 in /usr/local/lib/python3.11/dist-packages (from scikit-image==0.19.3->-r /content/drive/MyDrive/A_MaskRCNN/maskrcnn/requirements.txt (line 13)) (2025.3.13)\n",
            "Collecting PyWavelets>=1.1.1 (from scikit-image==0.19.3->-r /content/drive/MyDrive/A_MaskRCNN/maskrcnn/requirements.txt (line 13))\n",
            "  Downloading pywavelets-1.8.0-cp311-cp311-manylinux_2_17_x86_64.manylinux2014_x86_64.whl.metadata (9.0 kB)\n",
            "Requirement already satisfied: absl-py>=0.4 in /usr/local/lib/python3.11/dist-packages (from tensorboard==2.15.0->-r /content/drive/MyDrive/A_MaskRCNN/maskrcnn/requirements.txt (line 15)) (1.4.0)\n",
            "Requirement already satisfied: grpcio>=1.48.2 in /usr/local/lib/python3.11/dist-packages (from tensorboard==2.15.0->-r /content/drive/MyDrive/A_MaskRCNN/maskrcnn/requirements.txt (line 15)) (1.71.0)\n",
            "Requirement already satisfied: google-auth<3,>=1.6.3 in /usr/local/lib/python3.11/dist-packages (from tensorboard==2.15.0->-r /content/drive/MyDrive/A_MaskRCNN/maskrcnn/requirements.txt (line 15)) (2.38.0)\n",
            "Requirement already satisfied: google-auth-oauthlib<2,>=0.5 in /usr/local/lib/python3.11/dist-packages (from tensorboard==2.15.0->-r /content/drive/MyDrive/A_MaskRCNN/maskrcnn/requirements.txt (line 15)) (1.2.1)\n",
            "Requirement already satisfied: markdown>=2.6.8 in /usr/local/lib/python3.11/dist-packages (from tensorboard==2.15.0->-r /content/drive/MyDrive/A_MaskRCNN/maskrcnn/requirements.txt (line 15)) (3.7)\n",
            "Collecting protobuf<4.24,>=3.19.6 (from tensorboard==2.15.0->-r /content/drive/MyDrive/A_MaskRCNN/maskrcnn/requirements.txt (line 15))\n",
            "  Downloading protobuf-4.23.4-cp37-abi3-manylinux2014_x86_64.whl.metadata (540 bytes)\n",
            "Requirement already satisfied: requests<3,>=2.21.0 in /usr/local/lib/python3.11/dist-packages (from tensorboard==2.15.0->-r /content/drive/MyDrive/A_MaskRCNN/maskrcnn/requirements.txt (line 15)) (2.32.3)\n",
            "Requirement already satisfied: tensorboard-data-server<0.8.0,>=0.7.0 in /usr/local/lib/python3.11/dist-packages (from tensorboard==2.15.0->-r /content/drive/MyDrive/A_MaskRCNN/maskrcnn/requirements.txt (line 15)) (0.7.2)\n",
            "Requirement already satisfied: werkzeug>=1.0.1 in /usr/local/lib/python3.11/dist-packages (from tensorboard==2.15.0->-r /content/drive/MyDrive/A_MaskRCNN/maskrcnn/requirements.txt (line 15)) (3.1.3)\n",
            "Requirement already satisfied: astunparse>=1.6.0 in /usr/local/lib/python3.11/dist-packages (from tensorflow==2.15.1->-r /content/drive/MyDrive/A_MaskRCNN/maskrcnn/requirements.txt (line 16)) (1.6.3)\n",
            "Requirement already satisfied: flatbuffers>=23.5.26 in /usr/local/lib/python3.11/dist-packages (from tensorflow==2.15.1->-r /content/drive/MyDrive/A_MaskRCNN/maskrcnn/requirements.txt (line 16)) (25.2.10)\n",
            "Requirement already satisfied: gast!=0.5.0,!=0.5.1,!=0.5.2,>=0.2.1 in /usr/local/lib/python3.11/dist-packages (from tensorflow==2.15.1->-r /content/drive/MyDrive/A_MaskRCNN/maskrcnn/requirements.txt (line 16)) (0.6.0)\n",
            "Requirement already satisfied: google-pasta>=0.1.1 in /usr/local/lib/python3.11/dist-packages (from tensorflow==2.15.1->-r /content/drive/MyDrive/A_MaskRCNN/maskrcnn/requirements.txt (line 16)) (0.2.0)\n",
            "Requirement already satisfied: libclang>=13.0.0 in /usr/local/lib/python3.11/dist-packages (from tensorflow==2.15.1->-r /content/drive/MyDrive/A_MaskRCNN/maskrcnn/requirements.txt (line 16)) (18.1.1)\n",
            "Collecting ml-dtypes~=0.3.1 (from tensorflow==2.15.1->-r /content/drive/MyDrive/A_MaskRCNN/maskrcnn/requirements.txt (line 16))\n",
            "  Downloading ml_dtypes-0.3.2-cp311-cp311-manylinux_2_17_x86_64.manylinux2014_x86_64.whl.metadata (20 kB)\n",
            "Requirement already satisfied: opt-einsum>=2.3.2 in /usr/local/lib/python3.11/dist-packages (from tensorflow==2.15.1->-r /content/drive/MyDrive/A_MaskRCNN/maskrcnn/requirements.txt (line 16)) (3.4.0)\n",
            "Requirement already satisfied: termcolor>=1.1.0 in /usr/local/lib/python3.11/dist-packages (from tensorflow==2.15.1->-r /content/drive/MyDrive/A_MaskRCNN/maskrcnn/requirements.txt (line 16)) (2.5.0)\n",
            "Requirement already satisfied: typing-extensions>=3.6.6 in /usr/local/lib/python3.11/dist-packages (from tensorflow==2.15.1->-r /content/drive/MyDrive/A_MaskRCNN/maskrcnn/requirements.txt (line 16)) (4.12.2)\n",
            "Collecting wrapt<1.15,>=1.11.0 (from tensorflow==2.15.1->-r /content/drive/MyDrive/A_MaskRCNN/maskrcnn/requirements.txt (line 16))\n",
            "  Downloading wrapt-1.14.1-cp311-cp311-manylinux_2_5_x86_64.manylinux1_x86_64.manylinux_2_17_x86_64.manylinux2014_x86_64.whl.metadata (6.7 kB)\n",
            "Requirement already satisfied: tensorflow-io-gcs-filesystem>=0.23.1 in /usr/local/lib/python3.11/dist-packages (from tensorflow==2.15.1->-r /content/drive/MyDrive/A_MaskRCNN/maskrcnn/requirements.txt (line 16)) (0.37.1)\n",
            "Collecting tensorflow-estimator<2.16,>=2.15.0 (from tensorflow==2.15.1->-r /content/drive/MyDrive/A_MaskRCNN/maskrcnn/requirements.txt (line 16))\n",
            "  Downloading tensorflow_estimator-2.15.0-py2.py3-none-any.whl.metadata (1.3 kB)\n",
            "Requirement already satisfied: psutil in /usr/local/lib/python3.11/dist-packages (from memory_profiler->-r /content/drive/MyDrive/A_MaskRCNN/maskrcnn/requirements.txt (line 17)) (5.9.5)\n",
            "Requirement already satisfied: wheel<1.0,>=0.23.0 in /usr/local/lib/python3.11/dist-packages (from astunparse>=1.6.0->tensorflow==2.15.1->-r /content/drive/MyDrive/A_MaskRCNN/maskrcnn/requirements.txt (line 16)) (0.45.1)\n",
            "Requirement already satisfied: cachetools<6.0,>=2.0.0 in /usr/local/lib/python3.11/dist-packages (from google-auth<3,>=1.6.3->tensorboard==2.15.0->-r /content/drive/MyDrive/A_MaskRCNN/maskrcnn/requirements.txt (line 15)) (5.5.2)\n",
            "Requirement already satisfied: pyasn1-modules>=0.2.1 in /usr/local/lib/python3.11/dist-packages (from google-auth<3,>=1.6.3->tensorboard==2.15.0->-r /content/drive/MyDrive/A_MaskRCNN/maskrcnn/requirements.txt (line 15)) (0.4.1)\n",
            "Requirement already satisfied: rsa<5,>=3.1.4 in /usr/local/lib/python3.11/dist-packages (from google-auth<3,>=1.6.3->tensorboard==2.15.0->-r /content/drive/MyDrive/A_MaskRCNN/maskrcnn/requirements.txt (line 15)) (4.9)\n",
            "Requirement already satisfied: requests-oauthlib>=0.7.0 in /usr/local/lib/python3.11/dist-packages (from google-auth-oauthlib<2,>=0.5->tensorboard==2.15.0->-r /content/drive/MyDrive/A_MaskRCNN/maskrcnn/requirements.txt (line 15)) (2.0.0)\n",
            "Requirement already satisfied: parso<0.9.0,>=0.8.4 in /usr/local/lib/python3.11/dist-packages (from jedi>=0.16->ipython==7.34.0->-r /content/drive/MyDrive/A_MaskRCNN/maskrcnn/requirements.txt (line 4)) (0.8.4)\n",
            "Requirement already satisfied: ptyprocess>=0.5 in /usr/local/lib/python3.11/dist-packages (from pexpect>4.3->ipython==7.34.0->-r /content/drive/MyDrive/A_MaskRCNN/maskrcnn/requirements.txt (line 4)) (0.7.0)\n",
            "Requirement already satisfied: wcwidth in /usr/local/lib/python3.11/dist-packages (from prompt-toolkit!=3.0.0,!=3.0.1,<3.1.0,>=2.0.0->ipython==7.34.0->-r /content/drive/MyDrive/A_MaskRCNN/maskrcnn/requirements.txt (line 4)) (0.2.13)\n",
            "Requirement already satisfied: charset-normalizer<4,>=2 in /usr/local/lib/python3.11/dist-packages (from requests<3,>=2.21.0->tensorboard==2.15.0->-r /content/drive/MyDrive/A_MaskRCNN/maskrcnn/requirements.txt (line 15)) (3.4.1)\n",
            "Requirement already satisfied: idna<4,>=2.5 in /usr/local/lib/python3.11/dist-packages (from requests<3,>=2.21.0->tensorboard==2.15.0->-r /content/drive/MyDrive/A_MaskRCNN/maskrcnn/requirements.txt (line 15)) (3.10)\n",
            "Requirement already satisfied: urllib3<3,>=1.21.1 in /usr/local/lib/python3.11/dist-packages (from requests<3,>=2.21.0->tensorboard==2.15.0->-r /content/drive/MyDrive/A_MaskRCNN/maskrcnn/requirements.txt (line 15)) (2.3.0)\n",
            "Requirement already satisfied: certifi>=2017.4.17 in /usr/local/lib/python3.11/dist-packages (from requests<3,>=2.21.0->tensorboard==2.15.0->-r /content/drive/MyDrive/A_MaskRCNN/maskrcnn/requirements.txt (line 15)) (2025.1.31)\n",
            "Requirement already satisfied: greenlet!=0.4.17 in /usr/local/lib/python3.11/dist-packages (from sqlalchemy>=2.0->ipython-sql==0.5.0->-r /content/drive/MyDrive/A_MaskRCNN/maskrcnn/requirements.txt (line 6)) (3.1.1)\n",
            "Requirement already satisfied: MarkupSafe>=2.1.1 in /usr/local/lib/python3.11/dist-packages (from werkzeug>=1.0.1->tensorboard==2.15.0->-r /content/drive/MyDrive/A_MaskRCNN/maskrcnn/requirements.txt (line 15)) (3.0.2)\n",
            "Requirement already satisfied: pyasn1<0.7.0,>=0.4.6 in /usr/local/lib/python3.11/dist-packages (from pyasn1-modules>=0.2.1->google-auth<3,>=1.6.3->tensorboard==2.15.0->-r /content/drive/MyDrive/A_MaskRCNN/maskrcnn/requirements.txt (line 15)) (0.6.1)\n",
            "Requirement already satisfied: oauthlib>=3.0.0 in /usr/local/lib/python3.11/dist-packages (from requests-oauthlib>=0.7.0->google-auth-oauthlib<2,>=0.5->tensorboard==2.15.0->-r /content/drive/MyDrive/A_MaskRCNN/maskrcnn/requirements.txt (line 15)) (3.2.2)\n",
            "Downloading Cython-3.0.5-cp311-cp311-manylinux_2_17_x86_64.manylinux2014_x86_64.whl (3.6 MB)\n",
            "\u001b[2K   \u001b[90m━━━━━━━━━━━━━━━━━━━━━━━━━━━━━━━━━━━━━━━━\u001b[0m \u001b[32m3.6/3.6 MB\u001b[0m \u001b[31m100.5 MB/s\u001b[0m eta \u001b[36m0:00:00\u001b[0m\n",
            "\u001b[?25hDownloading h5py-3.9.0-cp311-cp311-manylinux_2_17_x86_64.manylinux2014_x86_64.whl (4.8 MB)\n",
            "\u001b[2K   \u001b[90m━━━━━━━━━━━━━━━━━━━━━━━━━━━━━━━━━━━━━━━━\u001b[0m \u001b[32m4.8/4.8 MB\u001b[0m \u001b[31m110.3 MB/s\u001b[0m eta \u001b[36m0:00:00\u001b[0m\n",
            "\u001b[?25hDownloading imgaug-0.4.0-py2.py3-none-any.whl (948 kB)\n",
            "\u001b[2K   \u001b[90m━━━━━━━━━━━━━━━━━━━━━━━━━━━━━━━━━━━━━━━━\u001b[0m \u001b[32m948.0/948.0 kB\u001b[0m \u001b[31m61.5 MB/s\u001b[0m eta \u001b[36m0:00:00\u001b[0m\n",
            "\u001b[?25hDownloading keras-2.15.0-py3-none-any.whl (1.7 MB)\n",
            "\u001b[2K   \u001b[90m━━━━━━━━━━━━━━━━━━━━━━━━━━━━━━━━━━━━━━━━\u001b[0m \u001b[32m1.7/1.7 MB\u001b[0m \u001b[31m84.6 MB/s\u001b[0m eta \u001b[36m0:00:00\u001b[0m\n",
            "\u001b[?25hDownloading matplotlib-3.7.1-cp311-cp311-manylinux_2_17_x86_64.manylinux2014_x86_64.whl (11.6 MB)\n",
            "\u001b[2K   \u001b[90m━━━━━━━━━━━━━━━━━━━━━━━━━━━━━━━━━━━━━━━━\u001b[0m \u001b[32m11.6/11.6 MB\u001b[0m \u001b[31m89.9 MB/s\u001b[0m eta \u001b[36m0:00:00\u001b[0m\n",
            "\u001b[?25hDownloading numpy-1.23.5-cp311-cp311-manylinux_2_17_x86_64.manylinux2014_x86_64.whl (17.1 MB)\n",
            "\u001b[2K   \u001b[90m━━━━━━━━━━━━━━━━━━━━━━━━━━━━━━━━━━━━━━━━\u001b[0m \u001b[32m17.1/17.1 MB\u001b[0m \u001b[31m112.4 MB/s\u001b[0m eta \u001b[36m0:00:00\u001b[0m\n",
            "\u001b[?25hDownloading opencv_contrib_python-4.8.0.76-cp37-abi3-manylinux_2_17_x86_64.manylinux2014_x86_64.whl (67.8 MB)\n",
            "\u001b[2K   \u001b[90m━━━━━━━━━━━━━━━━━━━━━━━━━━━━━━━━━━━━━━━━\u001b[0m \u001b[32m67.8/67.8 MB\u001b[0m \u001b[31m30.6 MB/s\u001b[0m eta \u001b[36m0:00:00\u001b[0m\n",
            "\u001b[?25hDownloading opencv_python-4.8.0.76-cp37-abi3-manylinux_2_17_x86_64.manylinux2014_x86_64.whl (61.7 MB)\n",
            "\u001b[2K   \u001b[90m━━━━━━━━━━━━━━━━━━━━━━━━━━━━━━━━━━━━━━━━\u001b[0m \u001b[32m61.7/61.7 MB\u001b[0m \u001b[31m31.0 MB/s\u001b[0m eta \u001b[36m0:00:00\u001b[0m\n",
            "\u001b[?25hDownloading Pillow-9.4.0-cp311-cp311-manylinux_2_28_x86_64.whl (3.4 MB)\n",
            "\u001b[2K   \u001b[90m━━━━━━━━━━━━━━━━━━━━━━━━━━━━━━━━━━━━━━━━\u001b[0m \u001b[32m3.4/3.4 MB\u001b[0m \u001b[31m92.6 MB/s\u001b[0m eta \u001b[36m0:00:00\u001b[0m\n",
            "\u001b[?25hDownloading scipy-1.11.3-cp311-cp311-manylinux_2_17_x86_64.manylinux2014_x86_64.whl (36.4 MB)\n",
            "\u001b[2K   \u001b[90m━━━━━━━━━━━━━━━━━━━━━━━━━━━━━━━━━━━━━━━━\u001b[0m \u001b[32m36.4/36.4 MB\u001b[0m \u001b[31m62.0 MB/s\u001b[0m eta \u001b[36m0:00:00\u001b[0m\n",
            "\u001b[?25hDownloading tensorboard-2.15.0-py3-none-any.whl (5.6 MB)\n",
            "\u001b[2K   \u001b[90m━━━━━━━━━━━━━━━━━━━━━━━━━━━━━━━━━━━━━━━━\u001b[0m \u001b[32m5.6/5.6 MB\u001b[0m \u001b[31m104.3 MB/s\u001b[0m eta \u001b[36m0:00:00\u001b[0m\n",
            "\u001b[?25hDownloading tensorflow-2.15.1-cp311-cp311-manylinux_2_17_x86_64.manylinux2014_x86_64.whl (475.3 MB)\n",
            "\u001b[2K   \u001b[90m━━━━━━━━━━━━━━━━━━━━━━━━━━━━━━━━━━━━━━━━\u001b[0m \u001b[32m475.3/475.3 MB\u001b[0m \u001b[31m3.2 MB/s\u001b[0m eta \u001b[36m0:00:00\u001b[0m\n",
            "\u001b[?25hDownloading memory_profiler-0.61.0-py3-none-any.whl (31 kB)\n",
            "Downloading jedi-0.19.2-py2.py3-none-any.whl (1.6 MB)\n",
            "\u001b[2K   \u001b[90m━━━━━━━━━━━━━━━━━━━━━━━━━━━━━━━━━━━━━━━━\u001b[0m \u001b[32m1.6/1.6 MB\u001b[0m \u001b[31m74.3 MB/s\u001b[0m eta \u001b[36m0:00:00\u001b[0m\n",
            "\u001b[?25hDownloading ml_dtypes-0.3.2-cp311-cp311-manylinux_2_17_x86_64.manylinux2014_x86_64.whl (2.2 MB)\n",
            "\u001b[2K   \u001b[90m━━━━━━━━━━━━━━━━━━━━━━━━━━━━━━━━━━━━━━━━\u001b[0m \u001b[32m2.2/2.2 MB\u001b[0m \u001b[31m73.3 MB/s\u001b[0m eta \u001b[36m0:00:00\u001b[0m\n",
            "\u001b[?25hDownloading protobuf-4.23.4-cp37-abi3-manylinux2014_x86_64.whl (304 kB)\n",
            "\u001b[2K   \u001b[90m━━━━━━━━━━━━━━━━━━━━━━━━━━━━━━━━━━━━━━━━\u001b[0m \u001b[32m304.5/304.5 kB\u001b[0m \u001b[31m25.6 MB/s\u001b[0m eta \u001b[36m0:00:00\u001b[0m\n",
            "\u001b[?25hDownloading pywavelets-1.8.0-cp311-cp311-manylinux_2_17_x86_64.manylinux2014_x86_64.whl (4.5 MB)\n",
            "\u001b[2K   \u001b[90m━━━━━━━━━━━━━━━━━━━━━━━━━━━━━━━━━━━━━━━━\u001b[0m \u001b[32m4.5/4.5 MB\u001b[0m \u001b[31m48.0 MB/s\u001b[0m eta \u001b[36m0:00:00\u001b[0m\n",
            "\u001b[?25hDownloading tensorflow_estimator-2.15.0-py2.py3-none-any.whl (441 kB)\n",
            "\u001b[2K   \u001b[90m━━━━━━━━━━━━━━━━━━━━━━━━━━━━━━━━━━━━━━━━\u001b[0m \u001b[32m442.0/442.0 kB\u001b[0m \u001b[31m33.1 MB/s\u001b[0m eta \u001b[36m0:00:00\u001b[0m\n",
            "\u001b[?25hDownloading wrapt-1.14.1-cp311-cp311-manylinux_2_5_x86_64.manylinux1_x86_64.manylinux_2_17_x86_64.manylinux2014_x86_64.whl (78 kB)\n",
            "\u001b[2K   \u001b[90m━━━━━━━━━━━━━━━━━━━━━━━━━━━━━━━━━━━━━━━━\u001b[0m \u001b[32m78.4/78.4 kB\u001b[0m \u001b[31m7.8 MB/s\u001b[0m eta \u001b[36m0:00:00\u001b[0m\n",
            "\u001b[?25hBuilding wheels for collected packages: scikit-image\n",
            "  Building wheel for scikit-image (pyproject.toml) ... \u001b[?25l\u001b[?25hdone\n",
            "  Created wheel for scikit-image: filename=scikit_image-0.19.3-cp311-cp311-linux_x86_64.whl size=33913410 sha256=d43fd79198f58ddadbe93881578e2639aa61f601330a768ed9e558a7e499cfda\n",
            "  Stored in directory: /root/.cache/pip/wheels/7b/12/cd/f311cabf9e8708d1e29e9951ee0839fb89b69e1acc60c94927\n",
            "Successfully built scikit-image\n",
            "Installing collected packages: wrapt, tensorflow-estimator, protobuf, pillow, numpy, memory_profiler, keras, jedi, cython, scipy, PyWavelets, opencv-python, opencv-contrib-python, ml-dtypes, h5py, scikit-image, matplotlib, tensorboard, imgaug, tensorflow\n",
            "  Attempting uninstall: wrapt\n",
            "    Found existing installation: wrapt 1.17.2\n",
            "    Uninstalling wrapt-1.17.2:\n",
            "      Successfully uninstalled wrapt-1.17.2\n",
            "  Attempting uninstall: protobuf\n",
            "    Found existing installation: protobuf 5.29.3\n",
            "    Uninstalling protobuf-5.29.3:\n",
            "      Successfully uninstalled protobuf-5.29.3\n",
            "  Attempting uninstall: pillow\n",
            "    Found existing installation: pillow 11.1.0\n",
            "    Uninstalling pillow-11.1.0:\n",
            "      Successfully uninstalled pillow-11.1.0\n",
            "  Attempting uninstall: numpy\n",
            "    Found existing installation: numpy 2.0.2\n",
            "    Uninstalling numpy-2.0.2:\n",
            "      Successfully uninstalled numpy-2.0.2\n",
            "  Attempting uninstall: keras\n",
            "    Found existing installation: keras 3.8.0\n",
            "    Uninstalling keras-3.8.0:\n",
            "      Successfully uninstalled keras-3.8.0\n",
            "  Attempting uninstall: cython\n",
            "    Found existing installation: Cython 3.0.12\n",
            "    Uninstalling Cython-3.0.12:\n",
            "      Successfully uninstalled Cython-3.0.12\n",
            "  Attempting uninstall: scipy\n",
            "    Found existing installation: scipy 1.14.1\n",
            "    Uninstalling scipy-1.14.1:\n",
            "      Successfully uninstalled scipy-1.14.1\n",
            "  Attempting uninstall: opencv-python\n",
            "    Found existing installation: opencv-python 4.11.0.86\n",
            "    Uninstalling opencv-python-4.11.0.86:\n",
            "      Successfully uninstalled opencv-python-4.11.0.86\n",
            "  Attempting uninstall: opencv-contrib-python\n",
            "    Found existing installation: opencv-contrib-python 4.11.0.86\n",
            "    Uninstalling opencv-contrib-python-4.11.0.86:\n",
            "      Successfully uninstalled opencv-contrib-python-4.11.0.86\n",
            "  Attempting uninstall: ml-dtypes\n",
            "    Found existing installation: ml-dtypes 0.4.1\n",
            "    Uninstalling ml-dtypes-0.4.1:\n",
            "      Successfully uninstalled ml-dtypes-0.4.1\n",
            "  Attempting uninstall: h5py\n",
            "    Found existing installation: h5py 3.13.0\n",
            "    Uninstalling h5py-3.13.0:\n",
            "      Successfully uninstalled h5py-3.13.0\n",
            "  Attempting uninstall: scikit-image\n",
            "    Found existing installation: scikit-image 0.25.2\n",
            "    Uninstalling scikit-image-0.25.2:\n",
            "      Successfully uninstalled scikit-image-0.25.2\n",
            "  Attempting uninstall: matplotlib\n",
            "    Found existing installation: matplotlib 3.10.0\n",
            "    Uninstalling matplotlib-3.10.0:\n",
            "      Successfully uninstalled matplotlib-3.10.0\n",
            "  Attempting uninstall: tensorboard\n",
            "    Found existing installation: tensorboard 2.18.0\n",
            "    Uninstalling tensorboard-2.18.0:\n",
            "      Successfully uninstalled tensorboard-2.18.0\n",
            "  Attempting uninstall: tensorflow\n",
            "    Found existing installation: tensorflow 2.18.0\n",
            "    Uninstalling tensorflow-2.18.0:\n",
            "      Successfully uninstalled tensorflow-2.18.0\n",
            "\u001b[31mERROR: pip's dependency resolver does not currently take into account all the packages that are installed. This behaviour is the source of the following dependency conflicts.\n",
            "jaxlib 0.5.1 requires numpy>=1.25, but you have numpy 1.23.5 which is incompatible.\n",
            "albucore 0.0.23 requires numpy>=1.24.4, but you have numpy 1.23.5 which is incompatible.\n",
            "bigframes 1.40.0 requires numpy>=1.24.0, but you have numpy 1.23.5 which is incompatible.\n",
            "albumentations 2.0.5 requires numpy>=1.24.4, but you have numpy 1.23.5 which is incompatible.\n",
            "tensorflow-text 2.18.1 requires tensorflow<2.19,>=2.18.0, but you have tensorflow 2.15.1 which is incompatible.\n",
            "tf-keras 2.18.0 requires tensorflow<2.19,>=2.18, but you have tensorflow 2.15.1 which is incompatible.\n",
            "jax 0.5.2 requires ml_dtypes>=0.4.0, but you have ml-dtypes 0.3.2 which is incompatible.\n",
            "jax 0.5.2 requires numpy>=1.25, but you have numpy 1.23.5 which is incompatible.\n",
            "blosc2 3.2.0 requires numpy>=1.26, but you have numpy 1.23.5 which is incompatible.\n",
            "xarray 2025.1.2 requires numpy>=1.24, but you have numpy 1.23.5 which is incompatible.\n",
            "plotnine 0.14.5 requires matplotlib>=3.8.0, but you have matplotlib 3.7.1 which is incompatible.\n",
            "chex 0.1.89 requires numpy>=1.24.1, but you have numpy 1.23.5 which is incompatible.\n",
            "tensorflow-metadata 1.16.1 requires protobuf<6.0.0dev,>=4.25.2; python_version >= \"3.11\", but you have protobuf 4.23.4 which is incompatible.\n",
            "imbalanced-learn 0.13.0 requires numpy<3,>=1.24.3, but you have numpy 1.23.5 which is incompatible.\n",
            "grpcio-status 1.71.0 requires protobuf<6.0dev,>=5.26.1, but you have protobuf 4.23.4 which is incompatible.\n",
            "pymc 5.21.1 requires numpy>=1.25.0, but you have numpy 1.23.5 which is incompatible.\n",
            "treescope 0.1.9 requires numpy>=1.25.2, but you have numpy 1.23.5 which is incompatible.\u001b[0m\u001b[31m\n",
            "\u001b[0mSuccessfully installed PyWavelets-1.8.0 cython-3.0.5 h5py-3.9.0 imgaug-0.4.0 jedi-0.19.2 keras-2.15.0 matplotlib-3.7.1 memory_profiler-0.61.0 ml-dtypes-0.3.2 numpy-1.23.5 opencv-contrib-python-4.8.0.76 opencv-python-4.8.0.76 pillow-9.4.0 protobuf-4.23.4 scikit-image-0.19.3 scipy-1.11.3 tensorboard-2.15.0 tensorflow-2.15.1 tensorflow-estimator-2.15.0 wrapt-1.14.1\n"
          ]
        },
        {
          "output_type": "display_data",
          "data": {
            "application/vnd.colab-display-data+json": {
              "pip_warning": {
                "packages": [
                  "PIL",
                  "matplotlib",
                  "mpl_toolkits",
                  "numpy"
                ]
              },
              "id": "5778a2852d5746d99c09f1bc8a87299c"
            }
          },
          "metadata": {}
        }
      ]
    },
    {
      "cell_type": "code",
      "source": [
        "!pip install tensorflow"
      ],
      "metadata": {
        "id": "FSo-5YqdKuWF",
        "colab": {
          "base_uri": "https://localhost:8080/"
        },
        "outputId": "68ef5cdf-5789-451f-ccc9-78fcbff1372a"
      },
      "execution_count": null,
      "outputs": [
        {
          "output_type": "stream",
          "name": "stdout",
          "text": [
            "Requirement already satisfied: tensorflow in /usr/local/lib/python3.11/dist-packages (2.15.1)\n",
            "Requirement already satisfied: absl-py>=1.0.0 in /usr/local/lib/python3.11/dist-packages (from tensorflow) (1.4.0)\n",
            "Requirement already satisfied: astunparse>=1.6.0 in /usr/local/lib/python3.11/dist-packages (from tensorflow) (1.6.3)\n",
            "Requirement already satisfied: flatbuffers>=23.5.26 in /usr/local/lib/python3.11/dist-packages (from tensorflow) (25.2.10)\n",
            "Requirement already satisfied: gast!=0.5.0,!=0.5.1,!=0.5.2,>=0.2.1 in /usr/local/lib/python3.11/dist-packages (from tensorflow) (0.6.0)\n",
            "Requirement already satisfied: google-pasta>=0.1.1 in /usr/local/lib/python3.11/dist-packages (from tensorflow) (0.2.0)\n",
            "Requirement already satisfied: h5py>=2.9.0 in /usr/local/lib/python3.11/dist-packages (from tensorflow) (3.9.0)\n",
            "Requirement already satisfied: libclang>=13.0.0 in /usr/local/lib/python3.11/dist-packages (from tensorflow) (18.1.1)\n",
            "Requirement already satisfied: ml-dtypes~=0.3.1 in /usr/local/lib/python3.11/dist-packages (from tensorflow) (0.3.2)\n",
            "Requirement already satisfied: numpy<2.0.0,>=1.23.5 in /usr/local/lib/python3.11/dist-packages (from tensorflow) (1.23.5)\n",
            "Requirement already satisfied: opt-einsum>=2.3.2 in /usr/local/lib/python3.11/dist-packages (from tensorflow) (3.4.0)\n",
            "Requirement already satisfied: packaging in /usr/local/lib/python3.11/dist-packages (from tensorflow) (24.2)\n",
            "Requirement already satisfied: protobuf!=4.21.0,!=4.21.1,!=4.21.2,!=4.21.3,!=4.21.4,!=4.21.5,<5.0.0dev,>=3.20.3 in /usr/local/lib/python3.11/dist-packages (from tensorflow) (4.23.4)\n",
            "Requirement already satisfied: setuptools in /usr/local/lib/python3.11/dist-packages (from tensorflow) (75.1.0)\n",
            "Requirement already satisfied: six>=1.12.0 in /usr/local/lib/python3.11/dist-packages (from tensorflow) (1.17.0)\n",
            "Requirement already satisfied: termcolor>=1.1.0 in /usr/local/lib/python3.11/dist-packages (from tensorflow) (2.5.0)\n",
            "Requirement already satisfied: typing-extensions>=3.6.6 in /usr/local/lib/python3.11/dist-packages (from tensorflow) (4.12.2)\n",
            "Requirement already satisfied: wrapt<1.15,>=1.11.0 in /usr/local/lib/python3.11/dist-packages (from tensorflow) (1.14.1)\n",
            "Requirement already satisfied: tensorflow-io-gcs-filesystem>=0.23.1 in /usr/local/lib/python3.11/dist-packages (from tensorflow) (0.37.1)\n",
            "Requirement already satisfied: grpcio<2.0,>=1.24.3 in /usr/local/lib/python3.11/dist-packages (from tensorflow) (1.71.0)\n",
            "Requirement already satisfied: tensorboard<2.16,>=2.15 in /usr/local/lib/python3.11/dist-packages (from tensorflow) (2.15.0)\n",
            "Requirement already satisfied: tensorflow-estimator<2.16,>=2.15.0 in /usr/local/lib/python3.11/dist-packages (from tensorflow) (2.15.0)\n",
            "Requirement already satisfied: keras<2.16,>=2.15.0 in /usr/local/lib/python3.11/dist-packages (from tensorflow) (2.15.0)\n",
            "Requirement already satisfied: wheel<1.0,>=0.23.0 in /usr/local/lib/python3.11/dist-packages (from astunparse>=1.6.0->tensorflow) (0.45.1)\n",
            "Requirement already satisfied: google-auth<3,>=1.6.3 in /usr/local/lib/python3.11/dist-packages (from tensorboard<2.16,>=2.15->tensorflow) (2.38.0)\n",
            "Requirement already satisfied: google-auth-oauthlib<2,>=0.5 in /usr/local/lib/python3.11/dist-packages (from tensorboard<2.16,>=2.15->tensorflow) (1.2.1)\n",
            "Requirement already satisfied: markdown>=2.6.8 in /usr/local/lib/python3.11/dist-packages (from tensorboard<2.16,>=2.15->tensorflow) (3.7)\n",
            "Requirement already satisfied: requests<3,>=2.21.0 in /usr/local/lib/python3.11/dist-packages (from tensorboard<2.16,>=2.15->tensorflow) (2.32.3)\n",
            "Requirement already satisfied: tensorboard-data-server<0.8.0,>=0.7.0 in /usr/local/lib/python3.11/dist-packages (from tensorboard<2.16,>=2.15->tensorflow) (0.7.2)\n",
            "Requirement already satisfied: werkzeug>=1.0.1 in /usr/local/lib/python3.11/dist-packages (from tensorboard<2.16,>=2.15->tensorflow) (3.1.3)\n",
            "Requirement already satisfied: cachetools<6.0,>=2.0.0 in /usr/local/lib/python3.11/dist-packages (from google-auth<3,>=1.6.3->tensorboard<2.16,>=2.15->tensorflow) (5.5.2)\n",
            "Requirement already satisfied: pyasn1-modules>=0.2.1 in /usr/local/lib/python3.11/dist-packages (from google-auth<3,>=1.6.3->tensorboard<2.16,>=2.15->tensorflow) (0.4.1)\n",
            "Requirement already satisfied: rsa<5,>=3.1.4 in /usr/local/lib/python3.11/dist-packages (from google-auth<3,>=1.6.3->tensorboard<2.16,>=2.15->tensorflow) (4.9)\n",
            "Requirement already satisfied: requests-oauthlib>=0.7.0 in /usr/local/lib/python3.11/dist-packages (from google-auth-oauthlib<2,>=0.5->tensorboard<2.16,>=2.15->tensorflow) (2.0.0)\n",
            "Requirement already satisfied: charset-normalizer<4,>=2 in /usr/local/lib/python3.11/dist-packages (from requests<3,>=2.21.0->tensorboard<2.16,>=2.15->tensorflow) (3.4.1)\n",
            "Requirement already satisfied: idna<4,>=2.5 in /usr/local/lib/python3.11/dist-packages (from requests<3,>=2.21.0->tensorboard<2.16,>=2.15->tensorflow) (3.10)\n",
            "Requirement already satisfied: urllib3<3,>=1.21.1 in /usr/local/lib/python3.11/dist-packages (from requests<3,>=2.21.0->tensorboard<2.16,>=2.15->tensorflow) (2.3.0)\n",
            "Requirement already satisfied: certifi>=2017.4.17 in /usr/local/lib/python3.11/dist-packages (from requests<3,>=2.21.0->tensorboard<2.16,>=2.15->tensorflow) (2025.1.31)\n",
            "Requirement already satisfied: MarkupSafe>=2.1.1 in /usr/local/lib/python3.11/dist-packages (from werkzeug>=1.0.1->tensorboard<2.16,>=2.15->tensorflow) (3.0.2)\n",
            "Requirement already satisfied: pyasn1<0.7.0,>=0.4.6 in /usr/local/lib/python3.11/dist-packages (from pyasn1-modules>=0.2.1->google-auth<3,>=1.6.3->tensorboard<2.16,>=2.15->tensorflow) (0.6.1)\n",
            "Requirement already satisfied: oauthlib>=3.0.0 in /usr/local/lib/python3.11/dist-packages (from requests-oauthlib>=0.7.0->google-auth-oauthlib<2,>=0.5->tensorboard<2.16,>=2.15->tensorflow) (3.2.2)\n"
          ]
        }
      ]
    },
    {
      "cell_type": "code",
      "source": [
        "!python3 /content/drive/MyDrive/A_MaskRCNN/maskrcnn/setup.py install"
      ],
      "metadata": {
        "id": "vLHSf-1pBh-u",
        "colab": {
          "base_uri": "https://localhost:8080/"
        },
        "outputId": "c987b291-8927-418f-aaca-fbeb50194002"
      },
      "execution_count": null,
      "outputs": [
        {
          "output_type": "stream",
          "name": "stdout",
          "text": [
            "/content/drive/MyDrive/A_MaskRCNN/maskrcnn/setup.py:9: DeprecationWarning: pkg_resources is deprecated as an API. See https://setuptools.pypa.io/en/latest/pkg_resources.html\n",
            "  import pkg_resources\n",
            "WARNING:root:Fail load requirements file, so using default ones.\n",
            "INFO:root:running install\n",
            "/usr/local/lib/python3.11/dist-packages/setuptools/_distutils/cmd.py:66: SetuptoolsDeprecationWarning: setup.py install is deprecated.\n",
            "!!\n",
            "\n",
            "        ********************************************************************************\n",
            "        Please avoid running ``setup.py`` directly.\n",
            "        Instead, use pypa/build, pypa/installer or other\n",
            "        standards-based tools.\n",
            "\n",
            "        See https://blog.ganssle.io/articles/2021/10/setup-py-deprecated.html for details.\n",
            "        ********************************************************************************\n",
            "\n",
            "!!\n",
            "  self.initialize_options()\n",
            "/usr/local/lib/python3.11/dist-packages/setuptools/_distutils/cmd.py:66: EasyInstallDeprecationWarning: easy_install command is deprecated.\n",
            "!!\n",
            "\n",
            "        ********************************************************************************\n",
            "        Please avoid running ``setup.py`` and ``easy_install``.\n",
            "        Instead, use pypa/build, pypa/installer or other\n",
            "        standards-based tools.\n",
            "\n",
            "        See https://github.com/pypa/setuptools/issues/917 for details.\n",
            "        ********************************************************************************\n",
            "\n",
            "!!\n",
            "  self.initialize_options()\n",
            "INFO:root:running bdist_egg\n",
            "INFO:root:running egg_info\n",
            "INFO:root:creating mask_rcnn_tf2.egg-info\n",
            "INFO:root:writing mask_rcnn_tf2.egg-info/PKG-INFO\n",
            "INFO:root:writing dependency_links to mask_rcnn_tf2.egg-info/dependency_links.txt\n",
            "INFO:root:writing top-level names to mask_rcnn_tf2.egg-info/top_level.txt\n",
            "INFO:root:writing manifest file 'mask_rcnn_tf2.egg-info/SOURCES.txt'\n",
            "error: package directory 'mrcnn' does not exist\n"
          ]
        }
      ]
    },
    {
      "cell_type": "code",
      "source": [
        "from tensorflow.keras import backend as K\n",
        "print(K.backend())\n"
      ],
      "metadata": {
        "id": "hcQd4p5zBj8-"
      },
      "execution_count": null,
      "outputs": []
    },
    {
      "cell_type": "code",
      "source": [
        "import tensorflow as tf\n",
        "gpus = tf.config.experimental.list_physical_devices('GPU')\n",
        "if gpus:\n",
        "    try:\n",
        "        # Currently, memory growth needs to be the same across GPUs\n",
        "        for gpu in gpus:\n",
        "            tf.config.experimental.set_memory_growth(gpu, True)\n",
        "        logical_gpus = tf.config.experimental.list_logical_devices('GPU')\n",
        "        print(len(gpus), \"Physical GPUs,\", len(logical_gpus), \"Logical GPUs\")\n",
        "    except RuntimeError as e:\n",
        "        # Memory growth must be set before GPUs have been initialized\n",
        "        print(e)\n"
      ],
      "metadata": {
        "id": "jziUWOwrBls3"
      },
      "execution_count": null,
      "outputs": []
    },
    {
      "cell_type": "code",
      "source": [
        "cd /content/drive/MyDrive/A_MaskRCNN/maskrcnn"
      ],
      "metadata": {
        "id": "TSx_knniBo5-"
      },
      "execution_count": null,
      "outputs": []
    },
    {
      "cell_type": "code",
      "source": [
        "!wget https://github.com/matterport/Mask_RCNN/releases/download/v2.0/mask_rcnn_coco.h5"
      ],
      "metadata": {
        "id": "jbADHYQPBrev"
      },
      "execution_count": null,
      "outputs": []
    },
    {
      "cell_type": "code",
      "source": [
        "!pip3 install -U memory_profiler"
      ],
      "metadata": {
        "id": "gLPLO5QkBtRx"
      },
      "execution_count": null,
      "outputs": []
    },
    {
      "cell_type": "code",
      "source": [
        "!pip install tensorflow==2.15 keras==2.15"
      ],
      "metadata": {
        "id": "-PZGlsx8BvrG"
      },
      "execution_count": null,
      "outputs": []
    },
    {
      "cell_type": "code",
      "source": [
        "import os\n",
        "import sys"
      ],
      "metadata": {
        "id": "JbNsM1wZOJRx"
      },
      "execution_count": null,
      "outputs": []
    },
    {
      "cell_type": "code",
      "source": [
        "cd /content/drive/MyDrive/A_MaskRCNN/maskrcnn"
      ],
      "metadata": {
        "id": "IOah81OIt8HG"
      },
      "execution_count": null,
      "outputs": []
    },
    {
      "cell_type": "code",
      "source": [
        "import tensorflow as tf\n",
        "\n",
        "# Force eager mode in a TF 2.x environment\n",
        "tf.compat.v1.enable_eager_execution()\n",
        "\n",
        "print(\"Eager execution:\", tf.executing_eagerly())  # should be True\n"
      ],
      "metadata": {
        "id": "9VkjWYKACZtK"
      },
      "execution_count": null,
      "outputs": []
    },
    {
      "cell_type": "code",
      "source": [
        "!pip install -U memory_profiler\n"
      ],
      "metadata": {
        "id": "XnUS0D8MuY-q"
      },
      "execution_count": null,
      "outputs": []
    },
    {
      "cell_type": "code",
      "source": [
        "!ls"
      ],
      "metadata": {
        "id": "gw2Vtz1dtnTM"
      },
      "execution_count": null,
      "outputs": []
    },
    {
      "cell_type": "code",
      "source": [
        "sys.path.append('/content/drive/MyDrive/A_MaskRCNN/maskrcnn')\n",
        "\n",
        "# Now test the import\n",
        "from mrcnn import model as modellib\n",
        "print(\" Successfully imported Mask R-CNN!\")\n"
      ],
      "metadata": {
        "id": "Y06Y4NXrtrYp"
      },
      "execution_count": null,
      "outputs": []
    },
    {
      "cell_type": "code",
      "source": [
        "import tensorflow as tf\n",
        "print(\"Inference TF version:\", tf.__version__)\n",
        "print(\"Eager execution:\", tf.executing_eagerly())\n"
      ],
      "metadata": {
        "id": "kWFKEFsYBlEo"
      },
      "execution_count": null,
      "outputs": []
    },
    {
      "cell_type": "code",
      "source": [
        "!pip uninstall -y numpy\n",
        "!pip install numpy\n",
        "\n"
      ],
      "metadata": {
        "id": "jG1jMDui7D9w"
      },
      "execution_count": null,
      "outputs": []
    },
    {
      "cell_type": "markdown",
      "source": [
        "# **CUSTOM TRAINING**"
      ],
      "metadata": {
        "id": "M6iK-HQiA2jX"
      }
    },
    {
      "cell_type": "code",
      "execution_count": null,
      "metadata": {
        "id": "7SvMhk2rAK6m"
      },
      "outputs": [],
      "source": [
        "import os\n",
        "import sys\n",
        "import json\n",
        "import datetime\n",
        "import numpy as np\n",
        "import skimage.draw\n",
        "import cv2\n",
        "from mrcnn.visualize import display_instances\n",
        "import matplotlib.pyplot as plt\n",
        "import imgaug\n",
        "import time\n",
        "from memory_profiler import memory_usage\n",
        "\n",
        "try:\n",
        "    from tensorflow.keras.callbacks import Callback  # TensorFlow < 2.14\n",
        "except ImportError:\n",
        "    from keras.callbacks import Callback  # TensorFlow 2.14+\n",
        "\n",
        "from tqdm import tqdm\n",
        "import skimage.io\n",
        "import tensorflow as tf\n",
        "import h5py\n",
        "from tensorflow.python.keras.saving import hdf5_format\n",
        "\n",
        "#  Ensure TensorFlow uses GPU\n",
        "tf.config.experimental.list_physical_devices('GPU')\n",
        "\n",
        "# Root directory of the project\n",
        "ROOT_DIR = \"/content/drive/MyDrive/A_MaskRCNN/maskrcnn\"\n",
        "\n",
        "# Import Mask RCNN\n",
        "sys.path.append(ROOT_DIR)  # To find local version of the library\n",
        "from mrcnn.config import Config\n",
        "from mrcnn import model as modellib, utils\n",
        "\n",
        "# Path to trained weights file\n",
        "COCO_WEIGHTS_PATH = os.path.join(ROOT_DIR, \"mask_rcnn_coco.h5\")\n",
        "\n",
        "#  Checkpoint Path (for saving and resuming training)\n",
        "CHECKPOINT_PATH = os.path.join(ROOT_DIR, \"mask_rcnn_malaria.h5\")\n",
        "\n",
        "# Directory to save logs and model checkpoints\n",
        "LOGS_DIR = \"/content\"\n",
        "DEFAULT_LOGS_DIR = os.path.join(ROOT_DIR, \"logs\")\n",
        "\n",
        "class CustomConfig(Config):\n",
        "    \"\"\"Configuration for training on the malaria dataset.\"\"\"\n",
        "    NAME = \"malaria\"\n",
        "\n",
        "    GPU_COUNT = 1\n",
        "    IMAGES_PER_GPU = 8\n",
        "\n",
        "    IMAGE_MIN_DIM = 128\n",
        "    IMAGE_MAX_DIM = 640\n",
        "\n",
        "    # Number of classes (including background)\n",
        "    NUM_CLASSES = 1 + 3  # Background + (uninfected, infected, parasite)\n",
        "\n",
        "    STEPS_PER_EPOCH = 800 // IMAGES_PER_GPU\n",
        "    VALIDATION_STEPS = 100 // IMAGES_PER_GPU\n",
        "\n",
        "    DETECTION_MIN_CONFIDENCE = 0.7\n",
        "    LEARNING_RATE = 0.001\n",
        "\n",
        "############################################################\n",
        "#  Dataset\n",
        "############################################################\n",
        "\n",
        "class CustomDataset(utils.Dataset):\n",
        "\n",
        "    def load_custom(self, dataset_dir, subset):\n",
        "      self.add_class(\"malaria\", 1, \"uninfected\")\n",
        "      self.add_class(\"malaria\", 2, \"infected\")\n",
        "      self.add_class(\"malaria\", 3, \"parasite\")\n",
        "\n",
        "      assert subset in [\"train\", \"val\"]\n",
        "      dataset_dir = os.path.join(dataset_dir, subset)\n",
        "\n",
        "      json_file = os.path.join(dataset_dir, f\"{subset}_malaria.json\")\n",
        "      with open(json_file) as f:\n",
        "          annotations1 = json.load(f)\n",
        "\n",
        "      annotations = list(annotations1.values())\n",
        "      annotations = [a for a in annotations if a['regions']]\n",
        "\n",
        "      name_dict = {\"uninfected\": 1, \"infected\": 2, \"parasite\": 3}\n",
        "\n",
        "      for a in tqdm(annotations, desc=\"Loading Images ...\"):\n",
        "          # Filter polygons & labels in sync\n",
        "          filtered_polygons = []\n",
        "          filtered_num_ids = []\n",
        "\n",
        "          for region in a['regions']:\n",
        "              obj_label = region['region_attributes'].get('type', None)\n",
        "              if obj_label in name_dict:\n",
        "                  # Keep the polygon only if the label is valid\n",
        "                  filtered_polygons.append(region['shape_attributes'])\n",
        "                  filtered_num_ids.append(name_dict[obj_label])\n",
        "\n",
        "          # If no valid polygons remain, you can skip or add an empty mask\n",
        "          if not filtered_polygons:\n",
        "              print(f\"Skipping image {a['filename']} – no valid polygons.\")\n",
        "              continue\n",
        "\n",
        "          image_path = os.path.join(dataset_dir, a['filename'])\n",
        "          image = skimage.io.imread(image_path)\n",
        "          height, width = image.shape[:2]\n",
        "\n",
        "          self.add_image(\n",
        "              \"malaria\",\n",
        "              image_id=a['filename'],\n",
        "              path=image_path,\n",
        "              width=width,\n",
        "              height=height,\n",
        "              polygons=filtered_polygons,\n",
        "              num_ids=filtered_num_ids\n",
        "          )\n",
        "\n",
        "\n",
        "    def load_mask(self, image_id):\n",
        "        \"\"\"Generate instance masks for an image.\"\"\"\n",
        "        image_info = self.image_info[image_id]\n",
        "        if image_info[\"source\"] != \"malaria\":\n",
        "            return super(self.__class__, self).load_mask(image_id)\n",
        "\n",
        "        if \"polygons\" not in image_info:\n",
        "            print(f\"Skipping image {image_info['path']} - No polygons found.\")\n",
        "            return np.zeros((image_info[\"height\"], image_info[\"width\"], 0), dtype=np.uint8), np.array([])\n",
        "\n",
        "        num_ids = image_info['num_ids']\n",
        "        mask = np.zeros([image_info[\"height\"], image_info[\"width\"], len(image_info[\"polygons\"])], dtype=np.uint8)\n",
        "\n",
        "        # Define name_dict inside load_mask\n",
        "        name_dict = {\"uninfected\": 1, \"infected\": 2, \"parasite\": 3}\n",
        "\n",
        "        for i, p in enumerate(image_info[\"polygons\"]):\n",
        "            if \"all_points_x\" in p and \"all_points_y\" in p:  # Polygon Annotation\n",
        "                rr, cc = skimage.draw.polygon(np.array(p['all_points_y']), np.array(p['all_points_x']))\n",
        "            elif \"name\" in p and p[\"name\"] == \"ellipse\":  # Ellipse Annotation\n",
        "                cy, cx, ry, rx = p[\"cy\"], p[\"cx\"], p[\"ry\"], p[\"rx\"]\n",
        "                rr, cc = skimage.draw.ellipse(cy, cx, ry, rx, shape=(image_info[\"height\"], image_info[\"width\"]))\n",
        "            else:\n",
        "                print(f\"Skipping annotation with missing keys: {p}\")\n",
        "                continue  # Skip this polygon if missing required points\n",
        "\n",
        "            # Clip to prevent out-of-bounds errors\n",
        "            rr = np.clip(rr, 0, image_info[\"height\"] - 1)\n",
        "            cc = np.clip(cc, 0, image_info[\"width\"] - 1)\n",
        "\n",
        "            mask[rr, cc, i] = 1  # Assign mask values\n",
        "\n",
        "        return mask.astype(bool), np.array(num_ids, dtype=np.int32)\n",
        "\n",
        "def train(model, initial_epoch=0, epochs_per_session=10, target_epochs=50):\n",
        "    \"\"\"Train the model in multiple sessions, saving checkpoints.\"\"\"\n",
        "    dataset_train = CustomDataset()\n",
        "    dataset_train.load_custom(\"/content/drive/MyDrive/A_MaskRCNN/maskrcnn/dataset\", \"train\")\n",
        "    dataset_train.prepare()\n",
        "\n",
        "    dataset_val = CustomDataset()\n",
        "    dataset_val.load_custom(\"/content/drive/MyDrive/A_MaskRCNN/maskrcnn/dataset\", \"val\")\n",
        "    dataset_val.prepare()\n",
        "\n",
        "    for start_epoch in range(initial_epoch, target_epochs, epochs_per_session):\n",
        "        print(f\"\\n Training from Epoch {start_epoch} to {start_epoch + epochs_per_session}\\n\")\n",
        "\n",
        "        model.train(\n",
        "            dataset_train, dataset_val,\n",
        "            learning_rate=config.LEARNING_RATE,\n",
        "            epochs=start_epoch + epochs_per_session,\n",
        "            layers=\"heads\",\n",
        "            augmentation=imgaug.augmenters.Sequential([\n",
        "                imgaug.augmenters.Grayscale(alpha=(0.0, 1.0)),\n",
        "                imgaug.augmenters.AddToHueAndSaturation((-20, 20)),\n",
        "                imgaug.augmenters.Add((-10, 10), per_channel=0.5),\n",
        "                imgaug.augmenters.Invert(0.05, per_channel=True),\n",
        "                imgaug.augmenters.Sharpen(alpha=(0, 1.0), lightness=(0.75, 1.5))\n",
        "            ])\n",
        "        )\n",
        "\n",
        "        # 🔹 Save model checkpoint\n",
        "        model.keras_model.save_weights(CHECKPOINT_PATH)\n",
        "        print(f\"\\n Model saved at {CHECKPOINT_PATH}\\n\")\n",
        "\n",
        "        print(f\"\\n Stop Colab now. Restart later to resume training!\\n\")\n",
        "        break  # Stop after saving checkpoint\n",
        "\n",
        "# Load Checkpoint if Available\n",
        "config = CustomConfig()\n",
        "model = modellib.MaskRCNN(mode=\"training\", config=config, model_dir=DEFAULT_LOGS_DIR)\n",
        "\n",
        "# Skip loading previous checkpoint (but don't delete it)\n",
        "print(\"\\nSkipping checkpoint loading! Training from scratch.\\n\")\n",
        "\n",
        "# Start Training in Chunks\n",
        "train(model, initial_epoch=0, epochs_per_session=50, target_epochs=50)\n"
      ]
    }
  ]
}